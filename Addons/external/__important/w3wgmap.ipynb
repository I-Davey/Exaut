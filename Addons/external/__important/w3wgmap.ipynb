{
 "cells": [
  {
   "cell_type": "code",
   "execution_count": 3,
   "metadata": {},
   "outputs": [
    {
     "name": "stdout",
     "output_type": "stream",
     "text": [
      "{'country': 'AU', 'square': {'southwest': {'lng': 151.20999, 'lat': -33.870014}, 'northeast': {'lng': 151.210022, 'lat': -33.869987}}, 'nearestPlace': 'Sydney, New South Wales', 'coordinates': {'lng': 151.210006, 'lat': -33.870001}, 'words': 'guard.cling.radio', 'language': 'en', 'map': 'https://w3w.co/guard.cling.radio'}\n",
      "https://www.google.com/maps/place/-33.870001,151.210006\n"
     ]
    }
   ],
   "source": [
    "#T9PTXHI8 - what3words api key\n",
    "import what3words\n",
    "\n",
    "w3w = what3words.Geocoder(\"T9PTXHI8\")\n",
    "\n",
    "#convert Guard.Cling.Radio into coordinates and coordinates into google maps link\n",
    "coords = w3w.convert_to_coordinates(\"Guard.Cling.Radio\")\n",
    "print(coords)\n",
    "print(\"https://www.google.com/maps/place/\" + str(coords['coordinates']['lat']) + \",\" + str(coords['coordinates']['lng']))\n",
    "\n",
    "\n"
   ]
  }
 ],
 "metadata": {
  "kernelspec": {
   "display_name": "Python 3.10.7 64-bit",
   "language": "python",
   "name": "python3"
  },
  "language_info": {
   "codemirror_mode": {
    "name": "ipython",
    "version": 3
   },
   "file_extension": ".py",
   "mimetype": "text/x-python",
   "name": "python",
   "nbconvert_exporter": "python",
   "pygments_lexer": "ipython3",
   "version": "3.10.7"
  },
  "orig_nbformat": 4,
  "vscode": {
   "interpreter": {
    "hash": "fbe58ca63fe33f9eeae9e71d10368d2b4a57f2b1b395836210cc60d362c66949"
   }
  }
 },
 "nbformat": 4,
 "nbformat_minor": 2
}
